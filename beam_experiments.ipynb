{
 "cells": [
  {
   "cell_type": "code",
   "execution_count": null,
   "id": "ecological-nicholas",
   "metadata": {},
   "outputs": [],
   "source": [
    "import apache_beam as beam\n"
   ]
  },
  {
   "cell_type": "code",
   "execution_count": null,
   "id": "explicit-budapest",
   "metadata": {},
   "outputs": [],
   "source": [
    "options = beam.PipelineOptions()\n",
    "google_cloud_options = options.view_as(GoogleCloudOptions)"
   ]
  },
  {
   "cell_type": "code",
   "execution_count": 1,
   "id": "temporal-stationery",
   "metadata": {},
   "outputs": [],
   "source": [
    "from apache_beam.options.pipeline_options import PipelineOptions, GoogleCloudOptions\n",
    "\n",
    "options = PipelineOptions()"
   ]
  },
  {
   "cell_type": "code",
   "execution_count": 2,
   "id": "positive-workplace",
   "metadata": {},
   "outputs": [],
   "source": [
    "google_cloud_options = options.view_as(GoogleCloudOptions)\n"
   ]
  },
  {
   "cell_type": "code",
   "execution_count": 3,
   "id": "typical-porcelain",
   "metadata": {},
   "outputs": [
    {
     "name": "stdout",
     "output_type": "stream",
     "text": [
      "GoogleCloudOptions(dataflow_endpoint=https://dataflow.googleapis.com, dataflow_kms_key=None, enable_streaming_engine=False, flexrs_goal=None, job_name=None, labels=None, no_auth=False, project=None, region=None, service_account_email=None, staging_location=None, temp_location=None, template_location=None, transform_name_mapping=None, update=False)\n"
     ]
    }
   ],
   "source": [
    "print(google_cloud_options)"
   ]
  },
  {
   "cell_type": "code",
   "execution_count": null,
   "id": "spiritual-environment",
   "metadata": {},
   "outputs": [],
   "source": [
    "class MyOptions(PipelineOptions):\n",
    "  @classmethod\n",
    "  def _add_argparse_args(cls, parser):\n",
    "    parser.add_argument(\n",
    "        '--input',\n",
    "        help='Input for the pipeline',\n",
    "        default='gs://my-bucket/input')\n",
    "    parser.add_argument(\n",
    "        '--output',\n",
    "        help='Output for the pipeline',\n",
    "        default='gs://my-bucket/output')"
   ]
  }
 ],
 "metadata": {
  "kernelspec": {
   "display_name": "Python 3",
   "language": "python",
   "name": "python3"
  },
  "language_info": {
   "codemirror_mode": {
    "name": "ipython",
    "version": 3
   },
   "file_extension": ".py",
   "mimetype": "text/x-python",
   "name": "python",
   "nbconvert_exporter": "python",
   "pygments_lexer": "ipython3",
   "version": "3.8.5"
  }
 },
 "nbformat": 4,
 "nbformat_minor": 5
}
