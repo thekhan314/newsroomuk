{
 "cells": [
  {
   "cell_type": "code",
   "execution_count": null,
   "metadata": {},
   "outputs": [],
   "source": []
  },
  {
   "cell_type": "code",
   "execution_count": 2,
   "metadata": {},
   "outputs": [
    {
     "output_type": "stream",
     "name": "stdout",
     "text": [
      "+-----------------+--------------------+--------------------+------------------+-----+\n|           source|                link|                text|        hate_score|index|\n+-----------------+--------------------+--------------------+------------------+-----+\n|         usatoday|https://www.usato...|As the Capitol ca...|0.5329999999999999|    5|\n|realclearpolitics|https://www.realc...|WASHINGTON (AP) —...|             0.588|   18|\n|        dailymail|https://www.daily...|A Republican repr...|0.5329999999999999|   25|\n|           apnews|https://www.apnew...|WASHINGTON (AP) —...|0.5329999999999999|   36|\n|          nbcnews|https://www.nbcne...|Law enforcement o...|0.5329999999999999|   52|\n|        dailymail|https://www.daily...|The Republican bi...|             0.667|   66|\n|          nytimes|https://www.nytim...|For years, there ...|0.5329999999999999|   82|\n|          nbcnews|https://www.nbcne...|President Donald ...|             0.588|   93|\n|          cbsnews|https://www.cbsne...|Washington — As a...|0.5329999999999999|   94|\n|         usatoday|https://www.usato...|As the Capitol ca...|0.5329999999999999|  106|\n|realclearpolitics|https://www.realc...|WASHINGTON (AP) —...|             0.588|  119|\n|        dailymail|https://www.daily...|A Republican repr...|0.5329999999999999|  126|\n|           apnews|https://www.apnew...|WASHINGTON (AP) —...|0.5329999999999999|  137|\n|          nbcnews|https://www.nbcne...|Law enforcement o...|0.5329999999999999|  153|\n|        dailymail|https://www.daily...|The Republican bi...|             0.667|  167|\n|          nytimes|https://www.nytim...|For years, there ...|0.5329999999999999|  183|\n|          nbcnews|https://www.nbcne...|President Donald ...|             0.588|  194|\n|          cbsnews|https://www.cbsne...|Washington — As a...|0.5329999999999999|  195|\n|      newsbusters|https://www.newsb...|Radical Rev. Raph...|             0.588|  241|\n|        dailymail|https://www.daily...|President Donald ...|             0.588|  249|\n+-----------------+--------------------+--------------------+------------------+-----+\nonly showing top 20 rows\n\n"
     ]
    }
   ],
   "source": [
    "import findspark\n",
    "findspark.init()\n",
    "\n",
    "import pyspark\n",
    "import random\n",
    "from pyspark.context import SparkContext\n",
    "from pyspark.sql.session import SparkSession\n",
    "\n",
    "sc = SparkContext('local')\n",
    "spark = SparkSession(sc)\n",
    "\n",
    "articles = spark.read.parquet(\"data/hate_articles.parquet\")\n",
    "\n",
    "articles.show()\n"
   ]
  },
  {
   "cell_type": "code",
   "execution_count": 3,
   "metadata": {},
   "outputs": [
    {
     "output_type": "stream",
     "name": "stdout",
     "text": [
      "+--------------------+------------------+\n|              source|   avg(hate_score)|\n+--------------------+------------------+\n|         newsbusters|0.8375999999999999|\n|                 bbc|0.5329999999999999|\n|            theblaze|0.5329999999999999|\n|                vice|             0.588|\n|                 cnn|             0.588|\n|theamericanconser...|            0.7745|\n|           telegraph|0.8584999999999999|\n|             cbsnews|0.5776666666666667|\n|            politico|0.5513333333333333|\n|                 vox|0.5329999999999999|\n|            newsweek|0.8819999999999999|\n|           dailymail|0.6567500000000001|\n|     washingtontimes|0.5513333333333333|\n|            usatoday|0.5329999999999999|\n|              apnews|0.5513333333333333|\n|             thehill|             0.588|\n|             foxnews|0.8544999999999999|\n|           breitbart|0.7473333333333333|\n|      chicagotribune|1.0406666666666669|\n|               wired|0.5990000000000001|\n+--------------------+------------------+\nonly showing top 20 rows\n\n"
     ]
    }
   ],
   "source": [
    "from pyspark.sql import functions as F\n",
    "\n",
    "articles.groupBy(['source']).agg(F.mean('hate_score')).show()"
   ]
  },
  {
   "cell_type": "code",
   "execution_count": null,
   "metadata": {},
   "outputs": [],
   "source": [
    "sc.stop()"
   ]
  },
  {
   "cell_type": "code",
   "execution_count": 7,
   "metadata": {},
   "outputs": [
    {
     "output_type": "execute_result",
     "data": {
      "text/plain": [
       "100"
      ]
     },
     "metadata": {},
     "execution_count": 7
    }
   ],
   "source": [
    "articles.count()"
   ]
  },
  {
   "source": [
    "#\n",
    "1. Break hateful articles into utterances with omdena script\n",
    "2. feed into tokenizer\n",
    "3. fee dinto ngram vectorizer\n"
   ],
   "cell_type": "markdown",
   "metadata": {}
  }
 ],
 "metadata": {
  "kernelspec": {
   "display_name": "Python 3",
   "language": "python",
   "name": "python3"
  },
  "language_info": {
   "codemirror_mode": {
    "name": "ipython",
    "version": 3
   },
   "file_extension": ".py",
   "mimetype": "text/x-python",
   "name": "python",
   "nbconvert_exporter": "python",
   "pygments_lexer": "ipython3",
   "version": "3.8.5-final"
  }
 },
 "nbformat": 4,
 "nbformat_minor": 4
}